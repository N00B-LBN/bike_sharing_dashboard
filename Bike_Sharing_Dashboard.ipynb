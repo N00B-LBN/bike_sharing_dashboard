{
  "nbformat": 4,
  "nbformat_minor": 0,
  "metadata": {
    "colab": {
      "provenance": []
    },
    "kernelspec": {
      "name": "python3",
      "display_name": "Python 3"
    },
    "language_info": {
      "name": "python"
    }
  },
  "cells": [
    {
      "cell_type": "markdown",
      "source": [
        "# Proyek Analisis Data: Nama dataset\n",
        "- Nama: M. Fatahillah Aqsa L.B.N.\n",
        "- Email: fatahillaqsa@gmail.com\n",
        "- Id Dicoding: mfaqsa"
      ],
      "metadata": {
        "id": "cP5zh7Ww85Fm"
      }
    },
    {
      "cell_type": "markdown",
      "source": [
        "## Menentukan Pertanyaan Bisnis"
      ],
      "metadata": {
        "id": "ggwOFmpI88dG"
      }
    },
    {
      "cell_type": "markdown",
      "source": [
        "Dari Dataset yang telah diberikan, dapat dirumuskan pertanyaan terkait jumlah penggunaan rental sepeda sebagai berikut\n",
        "1. Bagaimana korelasi antara musim dan cuaca pada tingkat penggunaan rental sepeda?\n",
        "2. Perbandingan antara weekday dan holiday pada jumlah penggunaan\n",
        "3. Waktu dalam 1 hari yang paling banyak tingkat penggunaannya"
      ],
      "metadata": {
        "id": "6irqmTtg8-IC"
      }
    },
    {
      "cell_type": "markdown",
      "source": [
        "## Menyaipkan semua library yang dibuthkan"
      ],
      "metadata": {
        "id": "EueHsNk89AsY"
      }
    },
    {
      "cell_type": "code",
      "execution_count": null,
      "metadata": {
        "id": "4cmWv4qc8xWu"
      },
      "outputs": [],
      "source": [
        "import pandas as pd\n",
        "import matplotlib.pyplot as plt\n",
        "import seaborn as sns\n",
        "import streamlit as st\n",
        "from babel.numbers import format_currency\n",
        "sns.set(style='dark')"
      ]
    },
    {
      "cell_type": "markdown",
      "source": [
        "## Data Wrangling"
      ],
      "metadata": {
        "id": "Cpsowg_Y-NOY"
      }
    },
    {
      "cell_type": "markdown",
      "source": [
        "### Gathering Data"
      ],
      "metadata": {
        "id": "U3Dc07Xo-Tdg"
      }
    },
    {
      "cell_type": "code",
      "source": [
        "day_df = pd.read_csv(\"day.csv\")\n",
        "\n",
        "hour_df = pd.read_csv(\"hour.csv\")"
      ],
      "metadata": {
        "id": "Rg3wtvOr9DUm"
      },
      "execution_count": null,
      "outputs": []
    },
    {
      "cell_type": "markdown",
      "source": [
        "### Assessing Data"
      ],
      "metadata": {
        "id": "VPs5XKm1-ZOT"
      }
    },
    {
      "cell_type": "code",
      "source": [
        "day_df['temp'] = day_df['temp']*41\n",
        "day_df['atemp'] = day_df['atemp']*50\n",
        "day_df['hum'] = day_df['hum']*100\n",
        "day_df['windspeed'] = day_df['windspeed']*67\n",
        "\n",
        "hour_df['temp'] = hour_df['temp']*41\n",
        "hour_df['atemp'] = hour_df['atemp']*50\n",
        "hour_df['hum'] = hour_df['hum']*100\n",
        "hour_df['windspeed'] = hour_df['windspeed']*67"
      ],
      "metadata": {
        "id": "fx7PaLsV9G8M"
      },
      "execution_count": null,
      "outputs": []
    },
    {
      "cell_type": "markdown",
      "source": [
        "### Cleaning Data"
      ],
      "metadata": {
        "id": "Wjesx1x_-d-z"
      }
    },
    {
      "cell_type": "code",
      "source": [
        "day_df.dteday = pd.to_datetime(day_df.dteday)\n",
        "hour_df.dteday = pd.to_datetime(hour_df.dteday)\n",
        "\n",
        "monthly_df = day_df.resample(rule='M', on='dteday').agg({\n",
        "    \"casual\": \"sum\",\n",
        "    \"registered\": \"sum\",\n",
        "    \"cnt\": \"sum\"\n",
        "})\n",
        "monthly_df.index = monthly_df.index.strftime('%Y-%b')\n",
        "monthly_df = monthly_df.reset_index()"
      ],
      "metadata": {
        "id": "CCszTdXD9Ivf"
      },
      "execution_count": null,
      "outputs": []
    },
    {
      "cell_type": "markdown",
      "source": [
        " ## Exploratory Data Analysis (EDA)"
      ],
      "metadata": {
        "id": "9NOPHxHc-m4E"
      }
    },
    {
      "cell_type": "markdown",
      "source": [
        "### Explore"
      ],
      "metadata": {
        "id": "Oh1wQiQJ-tFQ"
      }
    },
    {
      "cell_type": "code",
      "source": [
        "season_df = day_df.groupby(by=\"season\").cnt.sum().reset_index()\n",
        "season_df['season'] = season_df['season'].replace({\n",
        "    1:'Spring',\n",
        "    2:'Summer',\n",
        "    3:'Fall',\n",
        "    4:'Winter'\n",
        "    })\n",
        "\n",
        "weathersit_df = day_df.groupby(by=\"weathersit\").cnt.sum().reset_index()\n",
        "weathersit_df['weathersit'] = weathersit_df['weathersit'].replace({\n",
        "    1:'Clear, Partly cloudy',\n",
        "    2:'Mist, Cloudy',\n",
        "    3:'Light Snow, Light Rain',\n",
        "    4:'Heavy rain, Ice pallets, Thunderstorm, Snow, Fog'\n",
        "    })\n",
        "\n",
        "weekday_df = day_df.groupby(by=\"weekday\").cnt.sum().reset_index()\n",
        "weekday_df['weekday'] = weekday_df['weekday'].replace({\n",
        "    0:'Minggu',\n",
        "    1:'Senin',\n",
        "    2:'Selasa',\n",
        "    3:'Rabu',\n",
        "    4:'Kamis',\n",
        "    5:\"Jum'at\",\n",
        "    6:'Sabtu'})\n",
        "\n",
        "workingday_df = day_df.groupby(by=\"workingday\").cnt.sum().reset_index()\n",
        "workingday_df['workingday'] = workingday_df['workingday'].replace({\n",
        "    0:'Hari libur',\n",
        "    1:'Hari kerja',\n",
        "    })\n",
        "\n",
        "hour_df['hour_group'] = hour_df.hr.apply(lambda x: 'Pagi' if x>=6 and x<12 else 'Siang' if x>=12 and x<18 else 'Sore' if x>=18 and x<21 else 'Malam')\n",
        "bytime_df = hour_df.groupby(by='hour_group').cnt.sum().reset_index()\n",
        "timesort_dict = {'Pagi':0 , 'Siang':1 , 'Sore':2 , 'Malam':3}\n",
        "bytime_df = bytime_df.sort_values(by='hour_group', key=lambda x : x.map(timesort_dict))"
      ],
      "metadata": {
        "id": "Xo68yguo9LTl"
      },
      "execution_count": null,
      "outputs": []
    },
    {
      "cell_type": "markdown",
      "source": [
        "## Visualization & Explanatory Analysis"
      ],
      "metadata": {
        "id": "yBsdTijR-zdD"
      }
    },
    {
      "cell_type": "code",
      "source": [
        "st.header('Bike Sharing Dataset - Capital Bikeshare System :sparkles:')\n",
        "\n",
        "st.subheader('Penggunaan rental sepeda rentang tahun 2011-2012')\n",
        "\n",
        "total_orders = monthly_df.cnt.sum()\n",
        "st.metric(\"Total penggunaan\", value=total_orders)\n",
        "\n",
        "fig, ax = plt.subplots(figsize=(20, 10))\n",
        "ax.plot(\n",
        "    monthly_df[\"dteday\"],\n",
        "    monthly_df[\"cnt\"],\n",
        "    marker='o',\n",
        "    linewidth=2,\n",
        "    color=\"#90CAF9\"\n",
        ")\n",
        "ax.set_title(\"Jumlah penggunaan rental sepeda setiap bulan\", fontsize=40)\n",
        "ax.tick_params(axis='y', labelsize=25)\n",
        "ax.tick_params(axis='x', labelsize=20, rotation= 45)\n",
        "st.pyplot(fig)"
      ],
      "metadata": {
        "id": "dtRoaxqd9PdU"
      },
      "execution_count": null,
      "outputs": []
    },
    {
      "cell_type": "markdown",
      "source": [
        "### Pertanyaan 1:"
      ],
      "metadata": {
        "id": "F2Bo_ypQ9RfH"
      }
    },
    {
      "cell_type": "code",
      "source": [
        "st.subheader(\"Seasons & Weathers\")\n",
        "\n",
        "fig, ax = plt.subplots(nrows=1, ncols=2, figsize=(40, 20))\n",
        "\n",
        "colors1 = [ \"#D3D3D3\", \"#D3D3D3\", \"#72BCD4\", \"#D3D3D3\"]\n",
        "sns.barplot(\n",
        "    y=\"cnt\",\n",
        "    x=\"season\",\n",
        "    data=season_df,\n",
        "    palette=colors1,\n",
        "    ax=ax[0]\n",
        ")\n",
        "\n",
        "ax[0].set_title(\"Penggunaan rental sepeda tiap musim\", loc=\"center\", fontsize=35)\n",
        "ax[0].set_ylabel(None)\n",
        "ax[0].set_xlabel(None)\n",
        "ax[0].tick_params(axis='y', labelsize=25)\n",
        "ax[0].tick_params(axis='x', labelsize=20)\n",
        "\n",
        "colors2 = [\"#72BCD4\", \"#D3D3D3\", \"#D3D3D3\", \"#D3D3D3\", \"#D3D3D3\"]\n",
        "sns.barplot(\n",
        "    y=\"cnt\",\n",
        "    x=\"weathersit\",\n",
        "    data=weathersit_df,\n",
        "    palette=colors2,\n",
        "    ax=ax[1]\n",
        ")\n",
        "\n",
        "ax[1].set_title(\"Penggunaan rental sepeda berdasarkan cuaca\", loc=\"center\", fontsize=35)\n",
        "ax[1].set_ylabel(None)\n",
        "ax[1].set_xlabel(None)\n",
        "ax[1].tick_params(axis='y', labelsize=25)\n",
        "ax[1].tick_params(axis='x', labelsize=20)\n",
        "st.pyplot(fig)"
      ],
      "metadata": {
        "id": "jkO5kTJq9S1Y"
      },
      "execution_count": null,
      "outputs": []
    },
    {
      "cell_type": "markdown",
      "source": [
        "### Pertanyaan 2:"
      ],
      "metadata": {
        "id": "wkZ3jOESNxR5"
      }
    },
    {
      "cell_type": "code",
      "source": [
        "st.subheader(\"Berdasarkan Hari\")\n",
        "\n",
        "fig, ax = plt.subplots(nrows=1, ncols=2, figsize=(40, 20))\n",
        "\n",
        "colors3 = [ \"#D3D3D3\", \"#D3D3D3\", \"#D3D3D3\", \"#D3D3D3\", \"#D3D3D3\", \"#72BCD4\", \"#D3D3D3\"]\n",
        "sns.barplot(\n",
        "      y=\"cnt\",\n",
        "      x=\"weekday\",\n",
        "      data=weekday_df,\n",
        "      palette=colors3,\n",
        "      ax=ax[0]\n",
        "  )\n",
        "\n",
        "ax[0].set_title(\"Penggunaan rental sepeda berdasarkan hari\", loc=\"center\", fontsize=35)\n",
        "ax[0].set_ylabel(None)\n",
        "ax[0].set_xlabel(None)\n",
        "ax[0].tick_params(axis='y', labelsize=25)\n",
        "ax[0].tick_params(axis='x', labelsize=20)\n",
        "\n",
        "colors4 = [\"#D3D3D3\", \"#72BCD4\"]\n",
        "sns.barplot(\n",
        "      y=\"cnt\",\n",
        "      x=\"workingday\",\n",
        "      data=workingday_df,\n",
        "      palette=colors4,\n",
        "      ax=ax[1]\n",
        "  )\n",
        "\n",
        "ax[1].set_title(\"Pengelompokkan berdasarkan hari kerja dan hari libur\", loc=\"center\", fontsize=35)\n",
        "ax[1].set_ylabel(None)\n",
        "ax[1].set_xlabel(None)\n",
        "ax[1].tick_params(axis='y', labelsize=25)\n",
        "ax[1].tick_params(axis='x', labelsize=20)\n",
        "st.pyplot(fig)"
      ],
      "metadata": {
        "id": "TsSWDEeTNftq"
      },
      "execution_count": null,
      "outputs": []
    },
    {
      "cell_type": "markdown",
      "source": [
        "### Pertanyaan 3:"
      ],
      "metadata": {
        "id": "aaUc-8VdN1l9"
      }
    },
    {
      "cell_type": "code",
      "source": [
        "st.subheader(\"Berdasarkan Waktu\")\n",
        "fig, ax = plt.subplots(figsize=(25, 15))\n",
        "\n",
        "colors5 = [ \"#D3D3D3\", \"#72BCD4\", \"#D3D3D3\", \"#D3D3D3\"]\n",
        "sns.barplot(\n",
        "    y=\"cnt\",\n",
        "    x=\"hour_group\",\n",
        "    data=bytime_df,\n",
        "    palette=colors5,\n",
        ")\n",
        "\n",
        "ax.set_title(\"Penggunaan rental sepeda berdasarkan rentang waktu\", loc=\"center\", fontsize=35)\n",
        "ax.set_ylabel(None)\n",
        "ax.set_xlabel(None)\n",
        "ax.tick_params(axis='y', labelsize=25)\n",
        "ax.tick_params(axis='x', labelsize=20)\n",
        "st.pyplot(fig)"
      ],
      "metadata": {
        "id": "dcJMzeFkNid1"
      },
      "execution_count": null,
      "outputs": []
    },
    {
      "cell_type": "markdown",
      "source": [
        "## Conclusion"
      ],
      "metadata": {
        "id": "J2CnXYGT9Tc2"
      }
    },
    {
      "cell_type": "markdown",
      "source": [
        "\n"
      ],
      "metadata": {
        "id": "f73FBkLw9V8C"
      }
    },
    {
      "cell_type": "code",
      "source": [],
      "metadata": {
        "id": "b32P72p99VN9"
      },
      "execution_count": null,
      "outputs": []
    }
  ]
}